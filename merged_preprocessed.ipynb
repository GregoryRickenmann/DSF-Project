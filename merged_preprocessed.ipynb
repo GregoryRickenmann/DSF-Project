{
 "cells": [
  {
   "cell_type": "code",
   "execution_count": 44,
   "metadata": {},
   "outputs": [],
   "source": [
    "import pandas as pd\n",
    "import numpy as np\n",
    "import matplotlib.pyplot as plt\n",
    "import seaborn as sns\n",
    "import chardet"
   ]
  },
  {
   "cell_type": "code",
   "execution_count": 45,
   "metadata": {},
   "outputs": [],
   "source": [
    "from preprocessing_weather import WEATHER\n",
    "from preprocessing_pedestrians import PEDESTRIANS\n",
    "from preprocessing_permits import PERMITS"
   ]
  },
  {
   "cell_type": "code",
   "execution_count": 46,
   "metadata": {},
   "outputs": [
    {
     "name": "stdout",
     "output_type": "stream",
     "text": [
      "                                          Objektname BaustKanton  \\\n",
      "0                      Neubau Primarschule Riethüsli          SG   \n",
      "1  Teilabbruch und Erweiterung der Kantonsschule ...          SG   \n",
      "3  Erweiterung/Erneuerung Regionalgefängnis mit P...          SG   \n",
      "4  Neubau Pflegezentrum Schachen mit Tiefgarage u...          SG   \n",
      "5    Neubau Gewerbezentrum/Parkunique mit Tiefgarage          SG   \n",
      "\n",
      "  BaustadiumDatum          BaustadiumAlt BaustadiumDatumAlt      Baukosten  \\\n",
      "0      2022-06-03  Baugesuch eingereicht         2021-11-22  48.00 Mio CHF   \n",
      "1      2021-11-30  Baugesuch eingereicht         2015-10-02  49.00 Mio CHF   \n",
      "3      2020-02-05  Baugesuch eingereicht         2019-06-17  83.00 Mio CHF   \n",
      "4      2023-07-05  Baugesuch eingereicht         2019-11-21  46.70 Mio CHF   \n",
      "5      2024-11-15                Projekt         2017-01-06  25.00 Mio CHF   \n",
      "\n",
      "   Baubeginn  Bauende  \n",
      "0          1        1  \n",
      "1          1        1  \n",
      "3          1        1  \n",
      "4          1        1  \n",
      "5          0        0  \n"
     ]
    }
   ],
   "source": [
    "print(PERMITS.head())"
   ]
  },
  {
   "cell_type": "code",
   "execution_count": 47,
   "metadata": {},
   "outputs": [
    {
     "name": "stdout",
     "output_type": "stream",
     "text": [
      "         Date  Day  Workday  Total Pedestrians\n",
      "0  2024-03-24    7        0              420.0\n",
      "8  2024-03-25    1        1             1766.0\n",
      "19 2024-03-26    2        1             1701.0\n",
      "27 2024-03-28    4        1             1669.0\n",
      "33 2024-03-29    5        1              665.0\n"
     ]
    }
   ],
   "source": [
    "print(PEDESTRIANS.head())"
   ]
  },
  {
   "cell_type": "code",
   "execution_count": 48,
   "metadata": {},
   "outputs": [
    {
     "name": "stdout",
     "output_type": "stream",
     "text": [
      "         Location       Date  Temperature mean  Temperature max  \\\n",
      "27125  St. Gallen 2019-01-08               0.9              1.9   \n",
      "27130  St. Gallen 2019-01-10              -3.2             -2.5   \n",
      "27135  St. Gallen 2019-01-18              -2.8              0.7   \n",
      "27140  St. Gallen 2019-01-27               2.5              5.0   \n",
      "27145  St. Gallen 2019-02-01               1.2              4.8   \n",
      "\n",
      "       Temperature min  Precipitation in mm  Snow amount in cm  \n",
      "27125             -0.8                  4.2               35.0  \n",
      "27130             -3.8                 17.3               39.0  \n",
      "27135             -7.0                  0.0               32.0  \n",
      "27140             -0.9                  5.3               27.0  \n",
      "27145             -1.3                  0.2               37.0  \n"
     ]
    }
   ],
   "source": [
    "print(WEATHER.head())"
   ]
  },
  {
   "cell_type": "code",
   "execution_count": null,
   "metadata": {},
   "outputs": [
    {
     "name": "stdout",
     "output_type": "stream",
     "text": [
      "           Date  Day  Workday  Total Pedestrians    Location  \\\n",
      "0    2024-03-24    7        0              420.0  St. Gallen   \n",
      "1    2024-03-25    1        1             1766.0  St. Gallen   \n",
      "2    2024-03-26    2        1             1701.0  St. Gallen   \n",
      "3    2024-03-28    4        1             1669.0  St. Gallen   \n",
      "4    2024-03-29    5        1              665.0  St. Gallen   \n",
      "...         ...  ...      ...                ...         ...   \n",
      "2044 2024-10-23    3        1             1221.0  St. Gallen   \n",
      "2045 2024-10-24    4        1             1335.0  St. Gallen   \n",
      "2046 2024-10-25    5        1             1404.0  St. Gallen   \n",
      "2047 2024-10-26    6        0             1600.0  St. Gallen   \n",
      "2048 2024-10-12    6        0             2309.0  St. Gallen   \n",
      "\n",
      "      Temperature mean  Temperature max  Temperature min  Precipitation in mm  \\\n",
      "0                  1.7              3.8             -0.2                  5.2   \n",
      "1                  4.7              9.3              0.4                  0.0   \n",
      "2                  9.2             15.3              2.8                  0.0   \n",
      "3                  5.3              9.9              0.7                  1.3   \n",
      "4                 15.0             20.0              8.1                  0.0   \n",
      "...                ...              ...              ...                  ...   \n",
      "2044               9.3             10.7              8.3                  4.7   \n",
      "2045               9.6             11.1              8.6                  0.2   \n",
      "2046               8.2             10.4              5.8                  0.5   \n",
      "2047               8.5              9.5              7.4                  0.2   \n",
      "2048               7.5             12.9              2.5                  9.5   \n",
      "\n",
      "      Snow amount in cm  \n",
      "0                   3.0  \n",
      "1                   0.0  \n",
      "2                   0.0  \n",
      "3                   0.0  \n",
      "4                   0.0  \n",
      "...                 ...  \n",
      "2044                0.0  \n",
      "2045                0.0  \n",
      "2046                0.0  \n",
      "2047                0.0  \n",
      "2048                0.0  \n",
      "\n",
      "[2049 rows x 10 columns]\n"
     ]
    }
   ],
   "source": [
    "# Merge the datasets\n",
    "# Start with Pedestrians and Weather datasets and merge them on the Date column, performing an inner join to only keep values that are in both datasets\n",
    "merged_features = pd.merge(PEDESTRIANS, WEATHER, on='Date', how='inner')\n",
    "print(merged_features)"
   ]
  },
  {
   "cell_type": "code",
   "execution_count": null,
   "metadata": {},
   "outputs": [
    {
     "name": "stdout",
     "output_type": "stream",
     "text": [
      "339\n",
      "3810\n"
     ]
    }
   ],
   "source": [
    "# print(PERMITS['BaustadiumDatum'].nunique())\n",
    "# print(2049+1761)\n"
   ]
  },
  {
   "cell_type": "code",
   "execution_count": null,
   "metadata": {},
   "outputs": [
    {
     "name": "stdout",
     "output_type": "stream",
     "text": [
      "(1761, 8)\n"
     ]
    }
   ],
   "source": [
    "# print(PERMITS.shape)"
   ]
  },
  {
   "cell_type": "code",
   "execution_count": null,
   "metadata": {},
   "outputs": [
    {
     "name": "stdout",
     "output_type": "stream",
     "text": [
      "           Date  Day  Workday  Total Pedestrians    Location  \\\n",
      "2727 2019-03-08    5        1               80.0  St. Gallen   \n",
      "2728 2019-03-11    1        1              102.0  St. Gallen   \n",
      "2729 2019-03-12    2        1              115.0  St. Gallen   \n",
      "2730 2019-03-13    3        1              127.0  St. Gallen   \n",
      "2731 2019-03-14    4        1              106.0  St. Gallen   \n",
      "...         ...  ...      ...                ...         ...   \n",
      "3233 2024-11-05    2        1             1310.0  St. Gallen   \n",
      "3236 2024-11-05    2        1             1310.0  St. Gallen   \n",
      "3240 2024-11-06    3        1             1383.0  St. Gallen   \n",
      "3241 2024-11-06    3        1             1383.0  St. Gallen   \n",
      "3214 2024-11-07    4        1             1263.0  St. Gallen   \n",
      "\n",
      "      Temperature mean  Temperature max  Temperature min  Precipitation in mm  \\\n",
      "2727               4.7              6.5              2.9                  5.0   \n",
      "2728               0.9              4.2             -1.7                  3.4   \n",
      "2729               3.8              9.4             -0.9                  2.6   \n",
      "2730               2.4              8.6              0.0                  4.1   \n",
      "2731               2.6              4.5              1.5                 10.2   \n",
      "...                ...              ...              ...                  ...   \n",
      "3233               7.0             12.7              1.5                  0.0   \n",
      "3236               7.0             12.7              1.5                  0.0   \n",
      "3240               9.6             12.1              5.5                  0.2   \n",
      "3241               9.6             12.1              5.5                  0.2   \n",
      "3214               6.5              7.6              5.5                  0.0   \n",
      "\n",
      "      Snow amount in cm                              Objektname BaustKanton  \\\n",
      "2727                0.0                                     NaN         NaN   \n",
      "2728                0.0                                     NaN         NaN   \n",
      "2729                2.0                                     NaN         NaN   \n",
      "2730                1.0                                     NaN         NaN   \n",
      "2731                0.0                                     NaN         NaN   \n",
      "...                 ...                                     ...         ...   \n",
      "3233                0.0        Neugestaltung Kreisel Werdenberg          SG   \n",
      "3236                0.0  Neubau Mehrfamilienhaus mit Tiefgarage          SG   \n",
      "3240                0.0                  Neubau Einfamilienhaus          SG   \n",
      "3241                0.0          Energetische Sanierung Stöckli          SG   \n",
      "3214                0.0                                     NaN         NaN   \n",
      "\n",
      "     BaustadiumDatum          BaustadiumAlt BaustadiumDatumAlt     Baukosten  \\\n",
      "2727             NaT                    NaN                NaT           NaN   \n",
      "2728             NaT                    NaN                NaT           NaN   \n",
      "2729             NaT                    NaN                NaT           NaN   \n",
      "2730             NaT                    NaN                NaT           NaN   \n",
      "2731             NaT                    NaN                NaT           NaN   \n",
      "...              ...                    ...                ...           ...   \n",
      "3233      2024-11-05  Baugesuch eingereicht         2024-07-08  0.20 Mio CHF   \n",
      "3236      2024-11-05  Baugesuch eingereicht         2021-08-16  2.60 Mio CHF   \n",
      "3240      2024-11-06  Baugesuch eingereicht         2023-10-12  0.70 Mio CHF   \n",
      "3241      2024-11-06  Baugesuch eingereicht         2024-07-04  0.18 Mio CHF   \n",
      "3214             NaT                    NaN                NaT           NaN   \n",
      "\n",
      "      Baubeginn  Bauende  \n",
      "2727        NaN      NaN  \n",
      "2728        NaN      NaN  \n",
      "2729        NaN      NaN  \n",
      "2730        NaN      NaN  \n",
      "2731        NaN      NaN  \n",
      "...         ...      ...  \n",
      "3233        0.0      0.0  \n",
      "3236        0.0      0.0  \n",
      "3240        0.0      0.0  \n",
      "3241        0.0      0.0  \n",
      "3214        NaN      NaN  \n",
      "\n",
      "[3411 rows x 18 columns]\n"
     ]
    }
   ],
   "source": [
    "# # Now merge the Permits dataset with the merged dataset from the previous step, this time performing a left merge to make sure we keep all the values from the already merged dataset\n",
    "# merged_features = pd.merge(merged_features1, PERMITS, left_on='Date', right_on='BaustadiumDatum', how='left')\n",
    "# print(merged_features.sort_values(by='Date'))"
   ]
  },
  {
   "cell_type": "code",
   "execution_count": null,
   "metadata": {},
   "outputs": [
    {
     "name": "stdout",
     "output_type": "stream",
     "text": [
      "Date                      0\n",
      "Day                       0\n",
      "Workday                   0\n",
      "Total Pedestrians         0\n",
      "Location                  0\n",
      "Temperature mean          0\n",
      "Temperature max           0\n",
      "Temperature min           0\n",
      "Precipitation in mm       0\n",
      "Snow amount in cm         0\n",
      "Objektname             1722\n",
      "BaustKanton            1722\n",
      "BaustadiumDatum        1722\n",
      "BaustadiumAlt          1722\n",
      "BaustadiumDatumAlt     1722\n",
      "Baukosten              1722\n",
      "Baubeginn              1722\n",
      "Bauende                1722\n",
      "dtype: int64\n",
      "Date        Day  Workday  Total Pedestrians  Location    Temperature mean  Temperature max  Temperature min  Precipitation in mm  Snow amount in cm  Objektname                                     BaustKanton  BaustadiumDatum  BaustadiumAlt          BaustadiumDatumAlt  Baukosten          Baubeginn  Bauende\n",
      "2024-10-08  2    1        1541.0             St. Gallen   12.8              15.5             10.9            10.1                 0.0                Abbruch Einfamilienhaus                        SG           2024-10-08       Baugesuch eingereicht  2024-08-30          0.03 Mio CHF       1.0        0.0        2\n",
      "2023-12-08  5    1        2009.0             St. Gallen   2.9               5.0             -1.7             3.9                  14.0               Neubau Einfamilienhaus und angebaute Garage    SG           2023-12-08       Baugesuch eingereicht  2023-06-30          0.70 Mio CHF       0.0        0.0        1\n",
      "2023-12-14  4    1        2170.0             St. Gallen   3.3               4.0              1.3             8.9                  0.0                Neubau Einfamilienhaus mit angebauter Garage   SG           2023-12-14       Baugesuch eingereicht  2023-06-28          1.00 Mio CHF       1.0        1.0        1\n",
      "2024-01-12  5    1        1376.0             St. Gallen  -4.8              -4.0             -5.8             0.0                  27.0               Neubau Mehrfamilienhaus mit Tiefgarage         SG           2024-01-12       Baugesuch eingereicht  2023-05-25          5.00-6.00 Mio CHF  1.0        1.0        1\n",
      "2024-10-08  2    1        1541.0             St. Gallen   12.8              15.5             10.9            10.1                 0.0                Neubau Einfamilienhaus und integrierte Garage  SG           2024-10-08       Baugesuch eingereicht  2024-08-30          0.80 Mio CHF       1.0        1.0        1\n",
      "Name: count, dtype: int64\n"
     ]
    }
   ],
   "source": [
    "# # We notice that there are some NaN values in the BaustadiumDatum column, which means that there are some dates in the Pedestrians and Weather dataset that are not in the Permits dataset\n",
    "# # Which makes sense since there aren't new construction permits happening every day\n",
    "# # Find NaN values in the merged_features dataframe and print them\n",
    "# nan_values = merged_features.isna().sum()\n",
    "# print(nan_values)\n",
    "# # Check for duplicate rows in the merged_features dataframe\n",
    "# duplicates = merged_features[merged_features.duplicated()]\n",
    "# print(duplicates.value_counts())"
   ]
  },
  {
   "cell_type": "code",
   "execution_count": null,
   "metadata": {},
   "outputs": [
    {
     "name": "stdout",
     "output_type": "stream",
     "text": [
      "Rows with NaN values:\n",
      "           Date  Day  Workday  Total Pedestrians    Location  \\\n",
      "0    2024-03-24    7        0              420.0  St. Gallen   \n",
      "1    2024-03-25    1        1             1766.0  St. Gallen   \n",
      "18   2024-03-30    6        0             2201.0  St. Gallen   \n",
      "19   2024-03-31    7        0              569.0  St. Gallen   \n",
      "20   2024-04-01    1        1              455.0  St. Gallen   \n",
      "...         ...  ...      ...                ...         ...   \n",
      "3376 2024-10-21    1        1             1302.0  St. Gallen   \n",
      "3377 2024-09-28    6        0             1743.0  St. Gallen   \n",
      "3378 2024-09-27    5        1             1810.0  St. Gallen   \n",
      "3409 2024-10-26    6        0             1600.0  St. Gallen   \n",
      "3410 2024-10-12    6        0             2309.0  St. Gallen   \n",
      "\n",
      "      Temperature mean  Temperature max  Temperature min  Precipitation in mm  \\\n",
      "0                  1.7              3.8             -0.2                  5.2   \n",
      "1                  4.7              9.3              0.4                  0.0   \n",
      "18                14.3             18.4              7.1                  2.9   \n",
      "19                13.2             16.1              8.2                  2.2   \n",
      "20                 7.9             15.2              4.6                  6.8   \n",
      "...                ...              ...              ...                  ...   \n",
      "3376              13.4             16.9             10.4                  0.0   \n",
      "3377               7.9             10.5              6.0                 18.8   \n",
      "3378              12.3             15.9              9.4                  7.2   \n",
      "3409               8.5              9.5              7.4                  0.2   \n",
      "3410               7.5             12.9              2.5                  9.5   \n",
      "\n",
      "      Snow amount in cm Objektname BaustKanton BaustadiumDatum BaustadiumAlt  \\\n",
      "0                   3.0        NaN         NaN             NaT           NaN   \n",
      "1                   0.0        NaN         NaN             NaT           NaN   \n",
      "18                  0.0        NaN         NaN             NaT           NaN   \n",
      "19                  0.0        NaN         NaN             NaT           NaN   \n",
      "20                  0.0        NaN         NaN             NaT           NaN   \n",
      "...                 ...        ...         ...             ...           ...   \n",
      "3376                0.0        NaN         NaN             NaT           NaN   \n",
      "3377                0.0        NaN         NaN             NaT           NaN   \n",
      "3378                0.0        NaN         NaN             NaT           NaN   \n",
      "3409                0.0        NaN         NaN             NaT           NaN   \n",
      "3410                0.0        NaN         NaN             NaT           NaN   \n",
      "\n",
      "     BaustadiumDatumAlt Baukosten  Baubeginn  Bauende  \n",
      "0                   NaT       NaN        NaN      NaN  \n",
      "1                   NaT       NaN        NaN      NaN  \n",
      "18                  NaT       NaN        NaN      NaN  \n",
      "19                  NaT       NaN        NaN      NaN  \n",
      "20                  NaT       NaN        NaN      NaN  \n",
      "...                 ...       ...        ...      ...  \n",
      "3376                NaT       NaN        NaN      NaN  \n",
      "3377                NaT       NaN        NaN      NaN  \n",
      "3378                NaT       NaN        NaN      NaN  \n",
      "3409                NaT       NaN        NaN      NaN  \n",
      "3410                NaT       NaN        NaN      NaN  \n",
      "\n",
      "[1722 rows x 18 columns]\n"
     ]
    }
   ],
   "source": [
    "# # Create a mask for NaN values\n",
    "# nan_mask = merged_features.isna()\n",
    "\n",
    "# # Filter and print the rows that contain NaN values\n",
    "# nan_rows = merged_features[nan_mask.any(axis=1)]  # Select rows with NaN values\n",
    "# print(\"Rows with NaN values:\")\n",
    "# print(nan_rows)"
   ]
  },
  {
   "cell_type": "code",
   "execution_count": null,
   "metadata": {},
   "outputs": [
    {
     "name": "stdout",
     "output_type": "stream",
     "text": [
      "\n",
      "Columns with NaN values:\n",
      "                                  Objektname BaustKanton BaustadiumDatum  \\\n",
      "0                                        NaN         NaN             NaT   \n",
      "1                                        NaN         NaN             NaT   \n",
      "2              Abbruch Doppeleinfamilienhaus          SG      2024-03-26   \n",
      "3                           Abbruch Wekhalle          SG      2024-03-26   \n",
      "4                           Neubau Werkhalle          SG      2024-03-26   \n",
      "...                                      ...         ...             ...   \n",
      "3406   Neubau 2 Doppelhäuser und  Tiefgarage          SG      2024-10-25   \n",
      "3407    Umbau und Sanierung Mehrfamilienhaus          SG      2024-10-25   \n",
      "3408  Neubau Mehrfamilienhaus mit Tiefgarage          SG      2024-10-25   \n",
      "3409                                     NaN         NaN             NaT   \n",
      "3410                                     NaN         NaN             NaT   \n",
      "\n",
      "              BaustadiumAlt BaustadiumDatumAlt          Baukosten  Baubeginn  \\\n",
      "0                       NaN                NaT                NaN        NaN   \n",
      "1                       NaN                NaT                NaN        NaN   \n",
      "2     Baugesuch eingereicht         2022-10-11  0.04-0.05 Mio CHF        1.0   \n",
      "3     Baugesuch eingereicht         2023-04-17       0.08 Mio CHF        1.0   \n",
      "4     Baugesuch eingereicht         2023-04-17       2.00 Mio CHF        0.0   \n",
      "...                     ...                ...                ...        ...   \n",
      "3406  Baugesuch eingereicht         2022-11-07       2.60 Mio CHF        0.0   \n",
      "3407  Baugesuch eingereicht         2024-07-16       0.30 Mio CHF        0.0   \n",
      "3408  Baugesuch eingereicht         2024-06-25       7.00 Mio CHF        0.0   \n",
      "3409                    NaN                NaT                NaN        NaN   \n",
      "3410                    NaN                NaT                NaN        NaN   \n",
      "\n",
      "      Bauende  \n",
      "0         NaN  \n",
      "1         NaN  \n",
      "2         0.0  \n",
      "3         0.0  \n",
      "4         0.0  \n",
      "...       ...  \n",
      "3406      0.0  \n",
      "3407      0.0  \n",
      "3408      0.0  \n",
      "3409      NaN  \n",
      "3410      NaN  \n",
      "\n",
      "[3411 rows x 8 columns]\n"
     ]
    }
   ],
   "source": [
    "# # Filter and print the columns that contain NaN values\n",
    "# nan_columns = merged_features.loc[:, nan_mask.any(axis=0)]  # Select columns with NaN values\n",
    "# print(\"\\nColumns with NaN values:\")\n",
    "# print(nan_columns)"
   ]
  },
  {
   "cell_type": "code",
   "execution_count": null,
   "metadata": {},
   "outputs": [],
   "source": [
    "# # Group by 'Date' and count how many rows in df2 have the same date\n",
    "# count_per_date = df2.groupby('Date').size()\n",
    "\n",
    "# # Step 3: Map the count to the merged DataFrame using the 'Date' column\n",
    "# merged_df['Amount per Permits'] = merged_df['Date'].map(count_per_date).fillna(1).astype(int)\n",
    "\n",
    "# # Display the result\n",
    "# print(merged_df)"
   ]
  },
  {
   "cell_type": "code",
   "execution_count": null,
   "metadata": {},
   "outputs": [
    {
     "name": "stdout",
     "output_type": "stream",
     "text": [
      "Keys in merged_features1: <DatetimeArray>\n",
      "['2024-03-24 00:00:00', '2024-03-25 00:00:00', '2024-03-26 00:00:00',\n",
      " '2024-03-28 00:00:00', '2024-03-29 00:00:00', '2024-03-30 00:00:00',\n",
      " '2024-03-31 00:00:00', '2024-04-01 00:00:00', '2024-04-02 00:00:00',\n",
      " '2024-04-03 00:00:00',\n",
      " ...\n",
      " '2024-10-05 00:00:00', '2024-10-21 00:00:00', '2024-09-28 00:00:00',\n",
      " '2024-09-27 00:00:00', '2024-10-22 00:00:00', '2024-10-23 00:00:00',\n",
      " '2024-10-24 00:00:00', '2024-10-25 00:00:00', '2024-10-26 00:00:00',\n",
      " '2024-10-12 00:00:00']\n",
      "Length: 2049, dtype: datetime64[ns]\n",
      "Keys in Permits: <DatetimeArray>\n",
      "['2022-06-03 00:00:00', '2021-11-30 00:00:00', '2020-02-05 00:00:00',\n",
      " '2023-07-05 00:00:00', '2024-11-15 00:00:00', '2024-06-27 00:00:00',\n",
      " '2024-08-28 00:00:00', '2023-10-19 00:00:00', '2024-04-08 00:00:00',\n",
      " '2024-10-17 00:00:00',\n",
      " ...\n",
      " '2022-04-07 00:00:00', '2021-11-04 00:00:00', '2024-08-06 00:00:00',\n",
      " '2023-06-14 00:00:00', '2022-04-27 00:00:00', '2024-11-27 00:00:00',\n",
      " '2022-12-22 00:00:00', '2023-09-19 00:00:00', '2023-10-09 00:00:00',\n",
      " '2023-08-21 00:00:00']\n",
      "Length: 339, dtype: datetime64[ns]\n"
     ]
    }
   ],
   "source": [
    "# print(\"Keys in merged_features1:\", merged_features1['Date'].unique())\n",
    "# print(\"Keys in Permits:\", PERMITS['BaustadiumDatum'].unique())"
   ]
  },
  {
   "cell_type": "code",
   "execution_count": null,
   "metadata": {},
   "outputs": [
    {
     "name": "stdout",
     "output_type": "stream",
     "text": [
      "Occurrences of each key in merged_features1:\n",
      "Date\n",
      "2019-03-08    1\n",
      "2019-03-11    1\n",
      "2019-03-12    1\n",
      "2019-03-13    1\n",
      "2019-03-14    1\n",
      "             ..\n",
      "2024-11-03    1\n",
      "2024-11-04    1\n",
      "2024-11-05    1\n",
      "2024-11-06    1\n",
      "2024-11-07    1\n",
      "Length: 2049, dtype: int64\n",
      "\n",
      "Occurrences of each key in PERMITS:\n",
      "BaustadiumDatum\n",
      "2020-02-05     1\n",
      "2021-03-20     1\n",
      "2021-11-04     1\n",
      "2021-11-05     1\n",
      "2021-11-28     1\n",
      "              ..\n",
      "2024-11-18     1\n",
      "2024-11-19    11\n",
      "2024-11-20    11\n",
      "2024-11-21    11\n",
      "2024-11-27     1\n",
      "Length: 339, dtype: int64\n"
     ]
    }
   ],
   "source": [
    "# # Count occurrences of each key in df1\n",
    "# merged_features1_counts = merged_features1.groupby('Date').size()\n",
    "# print(\"Occurrences of each key in merged_features1:\")\n",
    "# print(merged_features1_counts)\n",
    "\n",
    "# # Count occurrences of each key in df2\n",
    "# PERMITS_counts = PERMITS.groupby('BaustadiumDatum').size()\n",
    "# print(\"\\nOccurrences of each key in PERMITS:\")\n",
    "# print(PERMITS_counts)"
   ]
  },
  {
   "cell_type": "code",
   "execution_count": null,
   "metadata": {},
   "outputs": [
    {
     "name": "stdout",
     "output_type": "stream",
     "text": [
      "\n",
      "Number of rows that would result from merging:\n",
      "Date\n",
      "2020-02-05    1\n",
      "2021-03-20    1\n",
      "2021-11-04    1\n",
      "2021-11-05    1\n",
      "2021-11-28    1\n",
      "             ..\n",
      "2024-10-30    1\n",
      "2024-11-01    2\n",
      "2024-11-04    1\n",
      "2024-11-05    4\n",
      "2024-11-06    2\n",
      "Length: 327, dtype: int64\n"
     ]
    }
   ],
   "source": [
    "# # Merge with an indicator to see how many matches there are\n",
    "# potential_merge = merged_features1.merge(PERMITS, left_on='Date', right_on='BaustadiumDatum', how='inner', indicator=True)\n",
    "\n",
    "# # Group by 'Date' to count the number of matches\n",
    "# merge_counts = potential_merge.groupby('Date').size()\n",
    "# print(\"\\nNumber of rows that would result from merging:\")\n",
    "# print(merge_counts)"
   ]
  },
  {
   "cell_type": "code",
   "execution_count": null,
   "metadata": {},
   "outputs": [
    {
     "name": "stdout",
     "output_type": "stream",
     "text": [
      "Rows and columns with NaN values:\n",
      "Empty DataFrame\n",
      "Columns: []\n",
      "Index: []\n"
     ]
    }
   ],
   "source": [
    "# # Find rows with NaN values\n",
    "# nan_rows = merged_features[merged_features.isna().any(axis=1)]\n",
    "\n",
    "# # Get columns that contain NaN values\n",
    "# nan_columns = merged_features.columns[merged_features.isna().any()]\n",
    "\n",
    "# # Display rows and only the columns with NaN values\n",
    "# print(\"Rows and columns with NaN values:\")\n",
    "# print(nan_rows[nan_columns])"
   ]
  },
  {
   "cell_type": "code",
   "execution_count": null,
   "metadata": {},
   "outputs": [
    {
     "name": "stdout",
     "output_type": "stream",
     "text": [
      "Duplicate rows:\n",
      "           Date  Day  Workday  Total Pedestrians    Location  \\\n",
      "778  2024-01-12    5        1             1376.0  St. Gallen   \n",
      "1000 2023-12-08    5        1             2009.0  St. Gallen   \n",
      "1037 2023-12-14    4        1             2170.0  St. Gallen   \n",
      "1518 2024-10-08    2        1             1541.0  St. Gallen   \n",
      "1519 2024-10-08    2        1             1541.0  St. Gallen   \n",
      "1521 2024-10-08    2        1             1541.0  St. Gallen   \n",
      "\n",
      "      Temperature mean  Temperature max  Temperature min  Precipitation in mm  \\\n",
      "778               -4.8             -4.0             -5.8                  0.0   \n",
      "1000               2.9              5.0             -1.7                  3.9   \n",
      "1037               3.3              4.0              1.3                  8.9   \n",
      "1518              12.8             15.5             10.9                 10.1   \n",
      "1519              12.8             15.5             10.9                 10.1   \n",
      "1521              12.8             15.5             10.9                 10.1   \n",
      "\n",
      "      Snow amount in cm                                     Objektname  \\\n",
      "778                27.0         Neubau Mehrfamilienhaus mit Tiefgarage   \n",
      "1000               14.0    Neubau Einfamilienhaus und angebaute Garage   \n",
      "1037                0.0   Neubau Einfamilienhaus mit angebauter Garage   \n",
      "1518                0.0                        Abbruch Einfamilienhaus   \n",
      "1519                0.0                        Abbruch Einfamilienhaus   \n",
      "1521                0.0  Neubau Einfamilienhaus und integrierte Garage   \n",
      "\n",
      "     BaustKanton BaustadiumDatum          BaustadiumAlt BaustadiumDatumAlt  \\\n",
      "778           SG      2024-01-12  Baugesuch eingereicht         2023-05-25   \n",
      "1000          SG      2023-12-08  Baugesuch eingereicht         2023-06-30   \n",
      "1037          SG      2023-12-14  Baugesuch eingereicht         2023-06-28   \n",
      "1518          SG      2024-10-08  Baugesuch eingereicht         2024-08-30   \n",
      "1519          SG      2024-10-08  Baugesuch eingereicht         2024-08-30   \n",
      "1521          SG      2024-10-08  Baugesuch eingereicht         2024-08-30   \n",
      "\n",
      "              Baukosten  Baubeginn  Bauende  \n",
      "778   5.00-6.00 Mio CHF          1        1  \n",
      "1000       0.70 Mio CHF          0        0  \n",
      "1037       1.00 Mio CHF          1        1  \n",
      "1518       0.03 Mio CHF          1        0  \n",
      "1519       0.03 Mio CHF          1        0  \n",
      "1521       0.80 Mio CHF          1        1  \n"
     ]
    }
   ],
   "source": [
    "# Because there are duplicates we will introduce a new row which has the amount of permits granted that day.\n"
   ]
  },
  {
   "cell_type": "code",
   "execution_count": null,
   "metadata": {},
   "outputs": [],
   "source": []
  }
 ],
 "metadata": {
  "kernelspec": {
   "display_name": "Python 3",
   "language": "python",
   "name": "python3"
  },
  "language_info": {
   "codemirror_mode": {
    "name": "ipython",
    "version": 3
   },
   "file_extension": ".py",
   "mimetype": "text/x-python",
   "name": "python",
   "nbconvert_exporter": "python",
   "pygments_lexer": "ipython3",
   "version": "3.12.6"
  }
 },
 "nbformat": 4,
 "nbformat_minor": 2
}
