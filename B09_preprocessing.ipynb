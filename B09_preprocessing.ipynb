{
 "cells": [
  {
   "cell_type": "code",
   "execution_count": 234,
   "metadata": {},
   "outputs": [],
   "source": [
    "import pandas as pd\n",
    "import numpy as np\n"
   ]
  },
  {
   "cell_type": "code",
   "execution_count": 235,
   "metadata": {},
   "outputs": [],
   "source": [
    "df = pd.DataFrame([1, 2988.826, 3041.892, 3155.796, 2994.507], [2023, 2022, 2021, 2020, 2019])"
   ]
  },
  {
   "cell_type": "code",
   "execution_count": 236,
   "metadata": {},
   "outputs": [],
   "source": [
    "df.rename(columns={0: 'Bauinvestitionen Kanton St. Gallen'}, inplace=True)\n",
    "df.index.name = 'Date'"
   ]
  },
  {
   "cell_type": "code",
   "execution_count": 237,
   "metadata": {},
   "outputs": [
    {
     "data": {
      "text/html": [
       "<div>\n",
       "<style scoped>\n",
       "    .dataframe tbody tr th:only-of-type {\n",
       "        vertical-align: middle;\n",
       "    }\n",
       "\n",
       "    .dataframe tbody tr th {\n",
       "        vertical-align: top;\n",
       "    }\n",
       "\n",
       "    .dataframe thead th {\n",
       "        text-align: right;\n",
       "    }\n",
       "</style>\n",
       "<table border=\"1\" class=\"dataframe\">\n",
       "  <thead>\n",
       "    <tr style=\"text-align: right;\">\n",
       "      <th></th>\n",
       "      <th>Bauinvestitionen Kanton St. Gallen</th>\n",
       "    </tr>\n",
       "    <tr>\n",
       "      <th>Date</th>\n",
       "      <th></th>\n",
       "    </tr>\n",
       "  </thead>\n",
       "  <tbody>\n",
       "    <tr>\n",
       "      <th>2023</th>\n",
       "      <td>1.000</td>\n",
       "    </tr>\n",
       "    <tr>\n",
       "      <th>2022</th>\n",
       "      <td>2988.826</td>\n",
       "    </tr>\n",
       "    <tr>\n",
       "      <th>2021</th>\n",
       "      <td>3041.892</td>\n",
       "    </tr>\n",
       "    <tr>\n",
       "      <th>2020</th>\n",
       "      <td>3155.796</td>\n",
       "    </tr>\n",
       "    <tr>\n",
       "      <th>2019</th>\n",
       "      <td>2994.507</td>\n",
       "    </tr>\n",
       "  </tbody>\n",
       "</table>\n",
       "</div>"
      ],
      "text/plain": [
       "      Bauinvestitionen Kanton St. Gallen\n",
       "Date                                    \n",
       "2023                               1.000\n",
       "2022                            2988.826\n",
       "2021                            3041.892\n",
       "2020                            3155.796\n",
       "2019                            2994.507"
      ]
     },
     "execution_count": 237,
     "metadata": {},
     "output_type": "execute_result"
    }
   ],
   "source": [
    "#interpolation of days\n",
    "df.head()"
   ]
  },
  {
   "cell_type": "code",
   "execution_count": 238,
   "metadata": {},
   "outputs": [],
   "source": [
    "# monthly_weights = {\n",
    "#     \"January\": 0.07,  # Coldest month, lowest weight\n",
    "#     \"February\": 0.07,  # Cold month, low weight\n",
    "#     \"March\": 0.08,\n",
    "#     \"April\": 0.08,\n",
    "#     \"May\": 0.085,\n",
    "#     \"June\": 0.100,  # Hot month, higher weight\n",
    "#     \"July\": 0.110,  # Hottest month, highest weight\n",
    "#     \"August\": 0.100,  # Hot month, high weight\n",
    "#     \"September\": 0.085,\n",
    "#     \"October\": 0.080,\n",
    "#     \"November\": 0.07,\n",
    "#     \"December\": 0.07  # Cold month, lowest weight\n",
    "# }\n",
    "\n",
    "# # Number of days per month (non-leap year)\n",
    "# days_per_month = {\n",
    "#     \"January\": 31, \"February\": 28, \"March\": 31, \"April\": 30,\n",
    "#     \"May\": 31, \"June\": 30, \"July\": 31, \"August\": 31,\n",
    "#     \"September\": 30, \"October\": 31, \"November\": 30, \"December\": 31\n",
    "# }\n",
    "\n",
    "# # Adjust the days for leap years\n",
    "# days_per_month_leap = days_per_month.copy()\n",
    "# days_per_month_leap[\"February\"] = 29  # February has 29 days in leap years\n",
    "\n",
    "# # Function to check if a year is a leap year\n",
    "# def is_leap_year(year):\n",
    "#     return (year % 4 == 0 and year % 100 != 0) or (year % 400 == 0)\n",
    "\n",
    "# # Function to calculate daily weight for a given date\n",
    "# def calculate_daily_weight(date):\n",
    "#     month_name = date.strftime('%B')  # Get the full month name (e.g., 'Januar')\n",
    "#     year = date.year\n",
    "    \n",
    "#     # Check if the year is a leap year\n",
    "#     is_leap = is_leap_year(year)\n",
    "#     days_in_month = days_per_month_leap if is_leap else days_per_month\n",
    "    \n",
    "#     # Get the number of days in the month\n",
    "#     days = days_in_month[month_name]\n",
    "    \n",
    "#     # Calculate the daily weight for that month\n",
    "#     monthly_weight = monthly_weights[month_name]\n",
    "#     daily_weight = monthly_weight / days\n",
    "    \n",
    "#     return daily_weight\n",
    "\n",
    "# # Interpolate daily values\n",
    "# df.index = pd.to_datetime(df.index, format='%Y')\n",
    "# # Resample the data to daily frequency and interpolate\n",
    "# df_daily = df.resample('D').interpolate()\n",
    "\n",
    "# # Forward fill the first of each month\n",
    "# df_daily.loc[df_daily.index.is_month_start, 'Bauinvestitionen Kanton St. Gallen'] = df['Bauinvestitionen Kanton St. Gallen']\n",
    "# df_daily['Bauinvestitionen Kanton St. Gallen'].fillna(method='ffill', inplace=True)\n",
    "\n",
    "# # Apply the calculate_daily_weight function to the 'Date' index to get the daily weight\n",
    "# df_daily['Daily Weight'] = df_daily.index.to_series().apply(calculate_daily_weight)\n",
    "\n",
    "# # Ensure the daily values are the same within each month for every month\n",
    "# for date, value in zip(df.index, df['Bauinvestitionen Kanton St. Gallen']):\n",
    "#     df_daily.loc[df_daily.index.to_period('M') == date.to_period('M'), 'Bauinvestitionen Kanton St. Gallen'] = value\n",
    "\n",
    "# print(df_daily.head(1000))  \n",
    "\n",
    "# # Adjust the values based on the daily weights\n",
    "# df_daily['Bauinvestitionen Kanton St. Gallen'] *= df_daily['Daily Weight']\n",
    "\n",
    "# # Check for duplicates in df_daily\n",
    "# duplicates = df_daily[df_daily.duplicated()]\n",
    "# print(\"Duplicates in df_daily:\")\n",
    "# #print(duplicates)\n",
    "\n",
    "# print(df_daily.head())\n",
    "\n",
    "# # Calculate the total for each year\n",
    "# yearly_totals = df_daily.resample('Y').sum()\n",
    "\n",
    "# print(yearly_totals)\n",
    "\n",
    "#interpolation gives us a faulty yearly total, as the daily values are not exactly the same for each day of the month (interpolation works by \n",
    "# taking the average of the two values, which is not the same as the original value splitted by every day of the month/year)     \n"
   ]
  },
  {
   "cell_type": "code",
   "execution_count": 239,
   "metadata": {},
   "outputs": [
    {
     "data": {
      "text/html": [
       "<div>\n",
       "<style scoped>\n",
       "    .dataframe tbody tr th:only-of-type {\n",
       "        vertical-align: middle;\n",
       "    }\n",
       "\n",
       "    .dataframe tbody tr th {\n",
       "        vertical-align: top;\n",
       "    }\n",
       "\n",
       "    .dataframe thead th {\n",
       "        text-align: right;\n",
       "    }\n",
       "</style>\n",
       "<table border=\"1\" class=\"dataframe\">\n",
       "  <thead>\n",
       "    <tr style=\"text-align: right;\">\n",
       "      <th></th>\n",
       "      <th>Bauinvestitionen Kanton St. Gallen</th>\n",
       "    </tr>\n",
       "    <tr>\n",
       "      <th>Date</th>\n",
       "      <th></th>\n",
       "    </tr>\n",
       "  </thead>\n",
       "  <tbody>\n",
       "    <tr>\n",
       "      <th>2023</th>\n",
       "      <td>1.000</td>\n",
       "    </tr>\n",
       "    <tr>\n",
       "      <th>2022</th>\n",
       "      <td>2988.826</td>\n",
       "    </tr>\n",
       "    <tr>\n",
       "      <th>2021</th>\n",
       "      <td>3041.892</td>\n",
       "    </tr>\n",
       "    <tr>\n",
       "      <th>2020</th>\n",
       "      <td>3155.796</td>\n",
       "    </tr>\n",
       "    <tr>\n",
       "      <th>2019</th>\n",
       "      <td>2994.507</td>\n",
       "    </tr>\n",
       "  </tbody>\n",
       "</table>\n",
       "</div>"
      ],
      "text/plain": [
       "      Bauinvestitionen Kanton St. Gallen\n",
       "Date                                    \n",
       "2023                               1.000\n",
       "2022                            2988.826\n",
       "2021                            3041.892\n",
       "2020                            3155.796\n",
       "2019                            2994.507"
      ]
     },
     "execution_count": 239,
     "metadata": {},
     "output_type": "execute_result"
    }
   ],
   "source": [
    "df.head()"
   ]
  },
  {
   "cell_type": "code",
   "execution_count": 240,
   "metadata": {
    "vscode": {
     "languageId": "ruby"
    }
   },
   "outputs": [
    {
     "name": "stdout",
     "output_type": "stream",
     "text": [
      "            Bauinvestitionen Kanton St. Gallen\n",
      "Date                                          \n",
      "2022-01-01                            2988.826\n",
      "2022-01-02                            2988.826\n",
      "2022-01-03                            2988.826\n",
      "2022-01-04                            2988.826\n",
      "2022-01-05                            2988.826\n",
      "...                                        ...\n",
      "2022-12-27                            2988.826\n",
      "2022-12-28                            2988.826\n",
      "2022-12-29                            2988.826\n",
      "2022-12-30                            2988.826\n",
      "2022-12-31                            2988.826\n",
      "\n",
      "[365 rows x 1 columns]\n"
     ]
    }
   ],
   "source": [
    "# Resample the data to daily frequency and fill with yearly value divided by the number of days\n",
    "df.index = pd.to_datetime(df.index, format='%Y')\n",
    "df_daily = df.resample('D').ffill()\n",
    "\n",
    "print(df_daily.loc[\"2022\"])\n"
   ]
  },
  {
   "cell_type": "code",
   "execution_count": 241,
   "metadata": {},
   "outputs": [
    {
     "name": "stdout",
     "output_type": "stream",
     "text": [
      "            Bauinvestitionen Kanton St. Gallen\n",
      "Date                                          \n",
      "2019-01-01                            8.204129\n",
      "2019-01-02                            8.204129\n",
      "2019-01-03                            8.204129\n",
      "2019-01-04                            8.204129\n",
      "2019-01-05                            8.204129\n",
      "...                                        ...\n",
      "2021-09-22                            8.333951\n",
      "2021-09-23                            8.333951\n",
      "2021-09-24                            8.333951\n",
      "2021-09-25                            8.333951\n",
      "2021-09-26                            8.333951\n",
      "\n",
      "[1000 rows x 1 columns]\n",
      "Sum of year 2022: 2988.8259999999996\n",
      "Sum of year 2021: 3041.8920000000003\n",
      "Sum of year 2020: 3155.7960000000003\n",
      "Sum of year 2019: 2994.5070000000005\n"
     ]
    }
   ],
   "source": [
    "#remove 2023 column \n",
    "df.drop(pd.Timestamp('2023-01-01'), inplace=True)\n",
    "# Fill the daily values with the yearly value divided by the number of days in the year\n",
    "for date, value in zip(df.index, df['Bauinvestitionen Kanton St. Gallen']):\n",
    "    days_in_year = 366 if date.is_leap_year else 365\n",
    "    daily_value = value / days_in_year\n",
    "    df_daily.loc[df_daily.index.year == date.year, 'Bauinvestitionen Kanton St. Gallen'] = daily_value\n",
    "\n",
    "print(df_daily.head(1000))\n",
    "\n",
    "# Calculate and print the sum for each year\n",
    "for year in df.index.year:\n",
    "    yearly_sum = df_daily.loc[str(year), 'Bauinvestitionen Kanton St. Gallen'].sum()\n",
    "    print(f\"Sum of year {year}: {yearly_sum}\")\n",
    "\n",
    "\n"
   ]
  },
  {
   "cell_type": "code",
   "execution_count": 244,
   "metadata": {},
   "outputs": [
    {
     "name": "stdout",
     "output_type": "stream",
     "text": [
      "Sum of year 2022: 1.746742175325881e-17\n",
      "Sum of year 2021: 5.723866293609136e-20\n",
      "Sum of year 2020: 1.9251453645577313e-22\n",
      "Sum of year 2019: 6.059322745247603e-25\n"
     ]
    }
   ],
   "source": [
    "# Calculate and print the sum for each year\n",
    "for year in df.index.year:\n",
    "    yearly_sum = df_daily.loc[str(year), 'Bauinvestitionen Kanton St. Gallen'].sum()\n",
    "    print(f\"Sum of year {year}: {yearly_sum}\")\n",
    "    # Define monthly weights\n",
    "    monthly_weights = {\n",
    "        \"January\": 0.07,  # Coldest month, lowest weight\n",
    "        \"February\": 0.07,  # Cold month, low weight\n",
    "        \"March\": 0.08,\n",
    "        \"April\": 0.08,\n",
    "        \"May\": 0.085,\n",
    "        \"June\": 0.10,  # Hot month, higher weight\n",
    "        \"July\": 0.11,  # Hottest month, highest weight\n",
    "        \"August\": 0.10,  # Hot month, high weight\n",
    "        \"September\": 0.085,\n",
    "        \"October\": 0.08,\n",
    "        \"November\": 0.07,\n",
    "        \"December\": 0.07  # Cold month, lowest weight\n",
    "    }\n",
    "\n",
    "    # Function to calculate daily weight for a given date\n",
    "    def calculate_daily_weight(date):\n",
    "        month_name = date.strftime('%B')  # Get the full month name (e.g., 'January')\n",
    "        days_in_month = days_per_month_leap if date.is_leap_year else days_per_month\n",
    "        days = days_in_month[month_name]\n",
    "        monthly_weight = monthly_weights[month_name]\n",
    "        daily_weight = monthly_weight / days\n",
    "        return daily_weight\n",
    "\n",
    "    # Apply the calculate_daily_weight function to the 'Date' index to get the daily weight\n",
    "    df_daily['Daily Weight'] = df_daily.index.to_series().apply(calculate_daily_weight)\n",
    "\n",
    "    # Adjust the values based on the daily weights\n",
    "    df_daily['Bauinvestitionen Kanton St. Gallen'] *= df_daily['Daily Weight']\n"
   ]
  },
  {
   "cell_type": "code",
   "execution_count": null,
   "metadata": {},
   "outputs": [],
   "source": []
  }
 ],
 "metadata": {
  "kernelspec": {
   "display_name": ".venv",
   "language": "python",
   "name": "python3"
  },
  "language_info": {
   "codemirror_mode": {
    "name": "ipython",
    "version": 3
   },
   "file_extension": ".py",
   "mimetype": "text/x-python",
   "name": "python",
   "nbconvert_exporter": "python",
   "pygments_lexer": "ipython3",
   "version": "3.12.6"
  }
 },
 "nbformat": 4,
 "nbformat_minor": 2
}
