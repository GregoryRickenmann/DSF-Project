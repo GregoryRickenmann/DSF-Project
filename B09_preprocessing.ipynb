{
 "cells": [
  {
   "cell_type": "code",
   "execution_count": 34,
   "metadata": {},
   "outputs": [],
   "source": [
    "import pandas as pd\n",
    "import numpy as np"
   ]
  },
  {
   "cell_type": "code",
   "execution_count": 35,
   "metadata": {},
   "outputs": [],
   "source": [
    "df = pd.DataFrame([2988.826, 3041.892, 3155.796, 2994.507], [2022, 2021, 2020, 2019])"
   ]
  },
  {
   "cell_type": "code",
   "execution_count": 36,
   "metadata": {},
   "outputs": [],
   "source": [
    "df.rename(columns={0: 'Investments'}, inplace=True)\n",
    "df.index.name = 'Date'"
   ]
  },
  {
   "cell_type": "code",
   "execution_count": 37,
   "metadata": {},
   "outputs": [
    {
     "data": {
      "text/html": [
       "<div>\n",
       "<style scoped>\n",
       "    .dataframe tbody tr th:only-of-type {\n",
       "        vertical-align: middle;\n",
       "    }\n",
       "\n",
       "    .dataframe tbody tr th {\n",
       "        vertical-align: top;\n",
       "    }\n",
       "\n",
       "    .dataframe thead th {\n",
       "        text-align: right;\n",
       "    }\n",
       "</style>\n",
       "<table border=\"1\" class=\"dataframe\">\n",
       "  <thead>\n",
       "    <tr style=\"text-align: right;\">\n",
       "      <th></th>\n",
       "      <th>Investments</th>\n",
       "    </tr>\n",
       "    <tr>\n",
       "      <th>Date</th>\n",
       "      <th></th>\n",
       "    </tr>\n",
       "  </thead>\n",
       "  <tbody>\n",
       "    <tr>\n",
       "      <th>2022</th>\n",
       "      <td>2988.826</td>\n",
       "    </tr>\n",
       "    <tr>\n",
       "      <th>2021</th>\n",
       "      <td>3041.892</td>\n",
       "    </tr>\n",
       "    <tr>\n",
       "      <th>2020</th>\n",
       "      <td>3155.796</td>\n",
       "    </tr>\n",
       "    <tr>\n",
       "      <th>2019</th>\n",
       "      <td>2994.507</td>\n",
       "    </tr>\n",
       "  </tbody>\n",
       "</table>\n",
       "</div>"
      ],
      "text/plain": [
       "      Investments\n",
       "Date             \n",
       "2022     2988.826\n",
       "2021     3041.892\n",
       "2020     3155.796\n",
       "2019     2994.507"
      ]
     },
     "execution_count": 37,
     "metadata": {},
     "output_type": "execute_result"
    }
   ],
   "source": [
    "#interpolation of days\n",
    "df.head()"
   ]
  },
  {
   "cell_type": "code",
   "execution_count": 38,
   "metadata": {},
   "outputs": [],
   "source": [
    "monthly_weights = {\n",
    "    \"January\": 0.07,  # Coldest month, lowest weight\n",
    "    \"February\": 0.07,  # Cold month, low weight\n",
    "    \"March\": 0.08,\n",
    "    \"April\": 0.08,\n",
    "    \"May\": 0.085,\n",
    "    \"June\": 0.100,  # Hot month, higher weight\n",
    "    \"July\": 0.110,  # Hottest month, highest weight\n",
    "    \"August\": 0.100,  # Hot month, high weight\n",
    "    \"September\": 0.085,\n",
    "    \"October\": 0.080,\n",
    "    \"November\": 0.07,\n",
    "    \"December\": 0.07  # Cold month, lowest weight\n",
    "}"
   ]
  },
  {
   "cell_type": "code",
   "execution_count": 39,
   "metadata": {},
   "outputs": [],
   "source": [
    "for month, weight in monthly_weights.items():\n",
    "    df[month] = df['Investments'] * weight"
   ]
  },
  {
   "cell_type": "code",
   "execution_count": 40,
   "metadata": {},
   "outputs": [
    {
     "data": {
      "text/html": [
       "<div>\n",
       "<style scoped>\n",
       "    .dataframe tbody tr th:only-of-type {\n",
       "        vertical-align: middle;\n",
       "    }\n",
       "\n",
       "    .dataframe tbody tr th {\n",
       "        vertical-align: top;\n",
       "    }\n",
       "\n",
       "    .dataframe thead th {\n",
       "        text-align: right;\n",
       "    }\n",
       "</style>\n",
       "<table border=\"1\" class=\"dataframe\">\n",
       "  <thead>\n",
       "    <tr style=\"text-align: right;\">\n",
       "      <th></th>\n",
       "      <th>Investments</th>\n",
       "      <th>January</th>\n",
       "      <th>February</th>\n",
       "      <th>March</th>\n",
       "      <th>April</th>\n",
       "      <th>May</th>\n",
       "      <th>June</th>\n",
       "      <th>July</th>\n",
       "      <th>August</th>\n",
       "      <th>September</th>\n",
       "      <th>October</th>\n",
       "      <th>November</th>\n",
       "      <th>December</th>\n",
       "    </tr>\n",
       "    <tr>\n",
       "      <th>Date</th>\n",
       "      <th></th>\n",
       "      <th></th>\n",
       "      <th></th>\n",
       "      <th></th>\n",
       "      <th></th>\n",
       "      <th></th>\n",
       "      <th></th>\n",
       "      <th></th>\n",
       "      <th></th>\n",
       "      <th></th>\n",
       "      <th></th>\n",
       "      <th></th>\n",
       "      <th></th>\n",
       "    </tr>\n",
       "  </thead>\n",
       "  <tbody>\n",
       "    <tr>\n",
       "      <th>2022</th>\n",
       "      <td>2988.826</td>\n",
       "      <td>209.21782</td>\n",
       "      <td>209.21782</td>\n",
       "      <td>239.10608</td>\n",
       "      <td>239.10608</td>\n",
       "      <td>254.050210</td>\n",
       "      <td>298.8826</td>\n",
       "      <td>328.77086</td>\n",
       "      <td>298.8826</td>\n",
       "      <td>254.050210</td>\n",
       "      <td>239.10608</td>\n",
       "      <td>209.21782</td>\n",
       "      <td>209.21782</td>\n",
       "    </tr>\n",
       "    <tr>\n",
       "      <th>2021</th>\n",
       "      <td>3041.892</td>\n",
       "      <td>212.93244</td>\n",
       "      <td>212.93244</td>\n",
       "      <td>243.35136</td>\n",
       "      <td>243.35136</td>\n",
       "      <td>258.560820</td>\n",
       "      <td>304.1892</td>\n",
       "      <td>334.60812</td>\n",
       "      <td>304.1892</td>\n",
       "      <td>258.560820</td>\n",
       "      <td>243.35136</td>\n",
       "      <td>212.93244</td>\n",
       "      <td>212.93244</td>\n",
       "    </tr>\n",
       "    <tr>\n",
       "      <th>2020</th>\n",
       "      <td>3155.796</td>\n",
       "      <td>220.90572</td>\n",
       "      <td>220.90572</td>\n",
       "      <td>252.46368</td>\n",
       "      <td>252.46368</td>\n",
       "      <td>268.242660</td>\n",
       "      <td>315.5796</td>\n",
       "      <td>347.13756</td>\n",
       "      <td>315.5796</td>\n",
       "      <td>268.242660</td>\n",
       "      <td>252.46368</td>\n",
       "      <td>220.90572</td>\n",
       "      <td>220.90572</td>\n",
       "    </tr>\n",
       "    <tr>\n",
       "      <th>2019</th>\n",
       "      <td>2994.507</td>\n",
       "      <td>209.61549</td>\n",
       "      <td>209.61549</td>\n",
       "      <td>239.56056</td>\n",
       "      <td>239.56056</td>\n",
       "      <td>254.533095</td>\n",
       "      <td>299.4507</td>\n",
       "      <td>329.39577</td>\n",
       "      <td>299.4507</td>\n",
       "      <td>254.533095</td>\n",
       "      <td>239.56056</td>\n",
       "      <td>209.61549</td>\n",
       "      <td>209.61549</td>\n",
       "    </tr>\n",
       "  </tbody>\n",
       "</table>\n",
       "</div>"
      ],
      "text/plain": [
       "      Investments    January   February      March      April         May  \\\n",
       "Date                                                                        \n",
       "2022     2988.826  209.21782  209.21782  239.10608  239.10608  254.050210   \n",
       "2021     3041.892  212.93244  212.93244  243.35136  243.35136  258.560820   \n",
       "2020     3155.796  220.90572  220.90572  252.46368  252.46368  268.242660   \n",
       "2019     2994.507  209.61549  209.61549  239.56056  239.56056  254.533095   \n",
       "\n",
       "          June       July    August   September    October   November  \\\n",
       "Date                                                                    \n",
       "2022  298.8826  328.77086  298.8826  254.050210  239.10608  209.21782   \n",
       "2021  304.1892  334.60812  304.1892  258.560820  243.35136  212.93244   \n",
       "2020  315.5796  347.13756  315.5796  268.242660  252.46368  220.90572   \n",
       "2019  299.4507  329.39577  299.4507  254.533095  239.56056  209.61549   \n",
       "\n",
       "       December  \n",
       "Date             \n",
       "2022  209.21782  \n",
       "2021  212.93244  \n",
       "2020  220.90572  \n",
       "2019  209.61549  "
      ]
     },
     "execution_count": 40,
     "metadata": {},
     "output_type": "execute_result"
    }
   ],
   "source": [
    "df.head()"
   ]
  },
  {
   "cell_type": "code",
   "execution_count": 41,
   "metadata": {},
   "outputs": [],
   "source": [
    "# Number of days per month (non-leap year)\n",
    "days_per_month = {\n",
    "    \"January\": 31, \"February\": 28, \"March\": 31, \"April\": 30,\n",
    "    \"May\": 31, \"June\": 30, \"July\": 31, \"August\": 31,\n",
    "    \"September\": 30, \"October\": 31, \"November\": 30, \"December\": 31\n",
    "}\n",
    "\n",
    "# Adjust the days for leap years\n",
    "days_per_month_leap = days_per_month.copy()\n",
    "days_per_month_leap[\"February\"] = 29  # February has 29 days in leap years\n",
    "days = [days_per_month, days_per_month, days_per_month_leap, days_per_month]"
   ]
  },
  {
   "cell_type": "code",
   "execution_count": 42,
   "metadata": {},
   "outputs": [],
   "source": [
    "# Create a date range for all days from 2019 to 2022\n",
    "date_range = pd.date_range(start='2019-01-01', end='2022-12-31', freq='D')\n",
    "\n",
    "# Create an empty dataframe with the date range as the index\n",
    "df_empty = pd.DataFrame(index=date_range)\n",
    "# Add the 'Investments' column to the empty dataframe\n",
    "df_empty['Investments'] = np.zeros(len(df_empty))"
   ]
  },
  {
   "cell_type": "code",
   "execution_count": 43,
   "metadata": {},
   "outputs": [
    {
     "data": {
      "text/html": [
       "<div>\n",
       "<style scoped>\n",
       "    .dataframe tbody tr th:only-of-type {\n",
       "        vertical-align: middle;\n",
       "    }\n",
       "\n",
       "    .dataframe tbody tr th {\n",
       "        vertical-align: top;\n",
       "    }\n",
       "\n",
       "    .dataframe thead th {\n",
       "        text-align: right;\n",
       "    }\n",
       "</style>\n",
       "<table border=\"1\" class=\"dataframe\">\n",
       "  <thead>\n",
       "    <tr style=\"text-align: right;\">\n",
       "      <th></th>\n",
       "      <th>Investments</th>\n",
       "    </tr>\n",
       "  </thead>\n",
       "  <tbody>\n",
       "    <tr>\n",
       "      <th>2019-01-01</th>\n",
       "      <td>0.0</td>\n",
       "    </tr>\n",
       "    <tr>\n",
       "      <th>2019-01-02</th>\n",
       "      <td>0.0</td>\n",
       "    </tr>\n",
       "    <tr>\n",
       "      <th>2019-01-03</th>\n",
       "      <td>0.0</td>\n",
       "    </tr>\n",
       "    <tr>\n",
       "      <th>2019-01-04</th>\n",
       "      <td>0.0</td>\n",
       "    </tr>\n",
       "    <tr>\n",
       "      <th>2019-01-05</th>\n",
       "      <td>0.0</td>\n",
       "    </tr>\n",
       "  </tbody>\n",
       "</table>\n",
       "</div>"
      ],
      "text/plain": [
       "            Investments\n",
       "2019-01-01          0.0\n",
       "2019-01-02          0.0\n",
       "2019-01-03          0.0\n",
       "2019-01-04          0.0\n",
       "2019-01-05          0.0"
      ]
     },
     "execution_count": 43,
     "metadata": {},
     "output_type": "execute_result"
    }
   ],
   "source": [
    "df_empty.head()"
   ]
  },
  {
   "cell_type": "code",
   "execution_count": 44,
   "metadata": {},
   "outputs": [
    {
     "data": {
      "text/plain": [
       "31"
      ]
     },
     "execution_count": 44,
     "metadata": {},
     "output_type": "execute_result"
    }
   ],
   "source": [
    "list(days_per_month.items())[0][1]"
   ]
  },
  {
   "cell_type": "code",
   "execution_count": 45,
   "metadata": {},
   "outputs": [
    {
     "data": {
      "text/plain": [
       "np.float64(209.21782000000002)"
      ]
     },
     "execution_count": 45,
     "metadata": {},
     "output_type": "execute_result"
    }
   ],
   "source": [
    "df.iloc[0][list(days_per_month.items())[0][0]]"
   ]
  },
  {
   "cell_type": "code",
   "execution_count": 46,
   "metadata": {},
   "outputs": [],
   "source": [
    "# Years\n",
    "for i in range(4):\n",
    "    # Months\n",
    "    for j in range(12):\n",
    "        # Days\n",
    "        for k in range(list(days[i].items())[j][1]):\n",
    "            date = f\"{2019 + i}-{j + 1}-{k + 1}\"\n",
    "            df_empty.loc[date, 'Investments'] = df.iloc[i][list(days_per_month.items())[j][0]]/list(days[i].items())[j][1]"
   ]
  },
  {
   "cell_type": "code",
   "execution_count": 57,
   "metadata": {},
   "outputs": [
    {
     "data": {
      "text/html": [
       "<div>\n",
       "<style scoped>\n",
       "    .dataframe tbody tr th:only-of-type {\n",
       "        vertical-align: middle;\n",
       "    }\n",
       "\n",
       "    .dataframe tbody tr th {\n",
       "        vertical-align: top;\n",
       "    }\n",
       "\n",
       "    .dataframe thead th {\n",
       "        text-align: right;\n",
       "    }\n",
       "</style>\n",
       "<table border=\"1\" class=\"dataframe\">\n",
       "  <thead>\n",
       "    <tr style=\"text-align: right;\">\n",
       "      <th></th>\n",
       "      <th>Investments</th>\n",
       "    </tr>\n",
       "    <tr>\n",
       "      <th>Date</th>\n",
       "      <th></th>\n",
       "    </tr>\n",
       "  </thead>\n",
       "  <tbody>\n",
       "    <tr>\n",
       "      <th>2019-01-01 00:00:00</th>\n",
       "      <td>6.748962</td>\n",
       "    </tr>\n",
       "    <tr>\n",
       "      <th>2019-01-02 00:00:00</th>\n",
       "      <td>6.748962</td>\n",
       "    </tr>\n",
       "    <tr>\n",
       "      <th>2019-01-03 00:00:00</th>\n",
       "      <td>6.748962</td>\n",
       "    </tr>\n",
       "    <tr>\n",
       "      <th>2019-01-04 00:00:00</th>\n",
       "      <td>6.748962</td>\n",
       "    </tr>\n",
       "    <tr>\n",
       "      <th>2019-01-05 00:00:00</th>\n",
       "      <td>6.748962</td>\n",
       "    </tr>\n",
       "  </tbody>\n",
       "</table>\n",
       "</div>"
      ],
      "text/plain": [
       "                     Investments\n",
       "Date                            \n",
       "2019-01-01 00:00:00     6.748962\n",
       "2019-01-02 00:00:00     6.748962\n",
       "2019-01-03 00:00:00     6.748962\n",
       "2019-01-04 00:00:00     6.748962\n",
       "2019-01-05 00:00:00     6.748962"
      ]
     },
     "execution_count": 57,
     "metadata": {},
     "output_type": "execute_result"
    }
   ],
   "source": [
    "\n",
    "df_empty.index.name = 'Date'\n",
    "df_empty.head()"
   ]
  },
  {
   "cell_type": "code",
   "execution_count": null,
   "metadata": {},
   "outputs": [],
   "source": []
  }
 ],
 "metadata": {
  "kernelspec": {
   "display_name": ".venv",
   "language": "python",
   "name": "python3"
  },
  "language_info": {
   "codemirror_mode": {
    "name": "ipython",
    "version": 3
   },
   "file_extension": ".py",
   "mimetype": "text/x-python",
   "name": "python",
   "nbconvert_exporter": "python",
   "pygments_lexer": "ipython3",
   "version": "3.11.0"
  }
 },
 "nbformat": 4,
 "nbformat_minor": 2
}
