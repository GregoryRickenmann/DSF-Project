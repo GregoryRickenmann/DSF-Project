{
 "cells": [
  {
   "cell_type": "code",
   "execution_count": 2,
   "metadata": {},
   "outputs": [],
   "source": [
    "import pandas as pd\n",
    "\n",
    "\n",
    "df = pd.DataFrame([2988.826, 3041.892, 3155.796, 2994.507], [2022, 2021, 2020, 2019])\n",
    "df.rename(columns={0: 'Bauinvestitionen Kanton St. Gallen'}, inplace=True)\n",
    "df.index.name = 'Date'"
   ]
  },
  {
   "cell_type": "code",
   "execution_count": 7,
   "metadata": {},
   "outputs": [
    {
     "name": "stdout",
     "output_type": "stream",
     "text": [
      "            Bauinvestitionen Kanton St. Gallen\n",
      "Date                                          \n",
      "2019-01-01                         2994.507000\n",
      "2019-01-02                         2994.948888\n",
      "2019-01-03                         2995.390775\n",
      "2019-01-04                         2995.832663\n",
      "2019-01-05                         2996.274551\n",
      "...                                        ...\n",
      "2021-12-28                         2989.407545\n",
      "2021-12-29                         2989.262159\n",
      "2021-12-30                         2989.116773\n",
      "2021-12-31                         2988.971386\n",
      "2022-01-01                         2988.826000\n",
      "\n",
      "[1097 rows x 1 columns]\n"
     ]
    }
   ],
   "source": [
    "df_daily = df.resample('D').interpolate()\n",
    "print(df_daily)"
   ]
  },
  {
   "cell_type": "code",
   "execution_count": null,
   "metadata": {},
   "outputs": [],
   "source": []
  }
 ],
 "metadata": {
  "kernelspec": {
   "display_name": ".venv",
   "language": "python",
   "name": "python3"
  },
  "language_info": {
   "codemirror_mode": {
    "name": "ipython",
    "version": 3
   },
   "file_extension": ".py",
   "mimetype": "text/x-python",
   "name": "python",
   "nbconvert_exporter": "python",
   "pygments_lexer": "ipython3",
   "version": "3.12.6"
  }
 },
 "nbformat": 4,
 "nbformat_minor": 2
}
